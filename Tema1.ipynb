{
 "cells": [
  {
   "cell_type": "code",
   "execution_count": 5,
   "metadata": {},
   "outputs": [
    {
     "data": {
      "text/plain": [
       "[10, 15, 20, 30]"
      ]
     },
     "execution_count": 5,
     "metadata": {},
     "output_type": "execute_result"
    }
   ],
   "source": [
    "first=[10,15,20,30]\n",
    "first"
   ]
  },
  {
   "cell_type": "code",
   "execution_count": 6,
   "metadata": {},
   "outputs": [
    {
     "data": {
      "text/plain": [
       "[20, 25, 50, 80]"
      ]
     },
     "execution_count": 6,
     "metadata": {},
     "output_type": "execute_result"
    }
   ],
   "source": [
    "second=[20,25,50,80]\n",
    "second"
   ]
  },
  {
   "cell_type": "code",
   "execution_count": 7,
   "metadata": {},
   "outputs": [
    {
     "data": {
      "text/plain": [
       "[50, 54, 55, 70]"
      ]
     },
     "execution_count": 7,
     "metadata": {},
     "output_type": "execute_result"
    }
   ],
   "source": [
    "third=[50,54,55,70]\n",
    "third"
   ]
  },
  {
   "cell_type": "code",
   "execution_count": 8,
   "metadata": {},
   "outputs": [
    {
     "data": {
      "text/plain": [
       "[30, 35, 60, 13]"
      ]
     },
     "execution_count": 8,
     "metadata": {},
     "output_type": "execute_result"
    }
   ],
   "source": [
    "fourth=[30,35,60,13]\n",
    "fourth"
   ]
  },
  {
   "cell_type": "code",
   "execution_count": 9,
   "metadata": {},
   "outputs": [
    {
     "data": {
      "text/plain": [
       "[40, 45, 70, 30]"
      ]
     },
     "execution_count": 9,
     "metadata": {},
     "output_type": "execute_result"
    }
   ],
   "source": [
    "fifth=[40,45,70,30]\n",
    "fifth"
   ]
  },
  {
   "cell_type": "code",
   "execution_count": 10,
   "metadata": {},
   "outputs": [
    {
     "data": {
      "text/plain": [
       "[60, 66, 12, 17]"
      ]
     },
     "execution_count": 10,
     "metadata": {},
     "output_type": "execute_result"
    }
   ],
   "source": [
    "sixth=[60,66,12,17]\n",
    "sixth"
   ]
  },
  {
   "cell_type": "code",
   "execution_count": 11,
   "metadata": {},
   "outputs": [
    {
     "data": {
      "text/plain": [
       "[10,\n",
       " 15,\n",
       " 20,\n",
       " 30,\n",
       " 20,\n",
       " 25,\n",
       " 50,\n",
       " 80,\n",
       " 50,\n",
       " 54,\n",
       " 55,\n",
       " 70,\n",
       " 30,\n",
       " 35,\n",
       " 60,\n",
       " 13,\n",
       " 40,\n",
       " 45,\n",
       " 70,\n",
       " 30,\n",
       " 60,\n",
       " 66,\n",
       " 12,\n",
       " 17]"
      ]
     },
     "execution_count": 11,
     "metadata": {},
     "output_type": "execute_result"
    }
   ],
   "source": [
    "concat= first+second+third+fourth+fifth+sixth #concatenarea tuturor listelor, exercitiul 3\n",
    "concat"
   ]
  },
  {
   "cell_type": "code",
   "execution_count": 8,
   "metadata": {},
   "outputs": [
    {
     "data": {
      "text/plain": [
       "957"
      ]
     },
     "execution_count": 8,
     "metadata": {},
     "output_type": "execute_result"
    }
   ],
   "source": [
    " from functools import reduce #suma tuturor elementelor, exercitiul 2\n",
    "TotalSum= reduce(lambda x,y: x+y, concat)\n",
    "TotalSum"
   ]
  },
  {
   "cell_type": "code",
   "execution_count": 9,
   "metadata": {},
   "outputs": [
    {
     "data": {
      "text/plain": [
       "75"
      ]
     },
     "execution_count": 9,
     "metadata": {},
     "output_type": "execute_result"
    }
   ],
   "source": [
    "g=lambda x,y: x+y #vom calcula suma elementelor din fiecare lista, exercitiul 1\n",
    "FirstSum= reduce(g, first)\n",
    "FirstSum"
   ]
  },
  {
   "cell_type": "code",
   "execution_count": 10,
   "metadata": {},
   "outputs": [
    {
     "data": {
      "text/plain": [
       "175"
      ]
     },
     "execution_count": 10,
     "metadata": {},
     "output_type": "execute_result"
    }
   ],
   "source": [
    "SecondSum= reduce(g, second)\n",
    "SecondSum"
   ]
  },
  {
   "cell_type": "code",
   "execution_count": 11,
   "metadata": {},
   "outputs": [
    {
     "data": {
      "text/plain": [
       "229"
      ]
     },
     "execution_count": 11,
     "metadata": {},
     "output_type": "execute_result"
    }
   ],
   "source": [
    "ThirdSum= reduce(g, third)\n",
    "ThirdSum"
   ]
  },
  {
   "cell_type": "code",
   "execution_count": 12,
   "metadata": {},
   "outputs": [
    {
     "data": {
      "text/plain": [
       "138"
      ]
     },
     "execution_count": 12,
     "metadata": {},
     "output_type": "execute_result"
    }
   ],
   "source": [
    "FourthSum= reduce(g, fourth)\n",
    "FourthSum"
   ]
  },
  {
   "cell_type": "code",
   "execution_count": 13,
   "metadata": {},
   "outputs": [
    {
     "data": {
      "text/plain": [
       "185"
      ]
     },
     "execution_count": 13,
     "metadata": {},
     "output_type": "execute_result"
    }
   ],
   "source": [
    "FifthSum= reduce(g, fifth)\n",
    "FifthSum"
   ]
  },
  {
   "cell_type": "code",
   "execution_count": 14,
   "metadata": {},
   "outputs": [
    {
     "data": {
      "text/plain": [
       "155"
      ]
     },
     "execution_count": 14,
     "metadata": {},
     "output_type": "execute_result"
    }
   ],
   "source": [
    "SixthSum= reduce(g, sixth)\n",
    "SixthSum"
   ]
  },
  {
   "cell_type": "code",
   "execution_count": 15,
   "metadata": {},
   "outputs": [
    {
     "data": {
      "text/plain": [
       "957"
      ]
     },
     "execution_count": 15,
     "metadata": {},
     "output_type": "execute_result"
    }
   ],
   "source": [
    "Total=FirstSum+SecondSum+ThirdSum+FourthSum+FifthSum+SixthSum #alt mod de a calcula suma tuturor elementelor, exercitiul 2\n",
    "Total"
   ]
  },
  {
   "cell_type": "code",
   "execution_count": 16,
   "metadata": {},
   "outputs": [
    {
     "data": {
      "text/plain": [
       "13"
      ]
     },
     "execution_count": 16,
     "metadata": {},
     "output_type": "execute_result"
    }
   ],
   "source": [
    "import operator as op\n",
    "h= lambda x: x>=30.1\n",
    "op.countOf(list(map(h, concat)), True) #am numarat cate elemente sunt >=30.1, exercitiul 4\n",
    "   "
   ]
  },
  {
   "cell_type": "code",
   "execution_count": 14,
   "metadata": {},
   "outputs": [
    {
     "name": "stdout",
     "output_type": "stream",
     "text": [
      "Pentru pragul natural  1 avem 0 numere din lista mai mici decat el!\n",
      "Pentru pragul natural  2 avem 0 numere din lista mai mici decat el!\n",
      "Pentru pragul natural  3 avem 0 numere din lista mai mici decat el!\n",
      "Pentru pragul natural  4 avem 0 numere din lista mai mici decat el!\n",
      "Pentru pragul natural  5 avem 0 numere din lista mai mici decat el!\n",
      "Pentru pragul natural  6 avem 0 numere din lista mai mici decat el!\n",
      "Pentru pragul natural  7 avem 0 numere din lista mai mici decat el!\n",
      "Pentru pragul natural  8 avem 0 numere din lista mai mici decat el!\n",
      "Pentru pragul natural  9 avem 0 numere din lista mai mici decat el!\n",
      "Pentru pragul natural  10 avem 0 numere din lista mai mici decat el!\n",
      "Pentru pragul natural  11 avem 0 numere din lista mai mici decat el!\n",
      "Pentru pragul natural  12 avem 0 numere din lista mai mici decat el!\n",
      "Pentru pragul natural  13 avem 0 numere din lista mai mici decat el!\n",
      "Pentru pragul natural  14 avem 0 numere din lista mai mici decat el!\n",
      "Pentru pragul natural  15 avem 0 numere din lista mai mici decat el!\n",
      "Pentru pragul natural  16 avem 0 numere din lista mai mici decat el!\n",
      "Pentru pragul natural  17 avem 0 numere din lista mai mici decat el!\n",
      "Pentru pragul natural  18 avem 1 numere din lista mai mici decat el!\n",
      "Pentru pragul natural  19 avem 1 numere din lista mai mici decat el!\n",
      "Pentru pragul natural  20 avem 1 numere din lista mai mici decat el!\n",
      "Pentru pragul natural  21 avem 1 numere din lista mai mici decat el!\n",
      "Pentru pragul natural  22 avem 1 numere din lista mai mici decat el!\n",
      "Pentru pragul natural  23 avem 1 numere din lista mai mici decat el!\n",
      "Pentru pragul natural  24 avem 1 numere din lista mai mici decat el!\n",
      "Pentru pragul natural  25 avem 1 numere din lista mai mici decat el!\n",
      "Pentru pragul natural  26 avem 1 numere din lista mai mici decat el!\n",
      "Pentru pragul natural  27 avem 1 numere din lista mai mici decat el!\n",
      "Pentru pragul natural  28 avem 1 numere din lista mai mici decat el!\n",
      "Pentru pragul natural  29 avem 1 numere din lista mai mici decat el!\n",
      "Pentru pragul natural  30 avem 1 numere din lista mai mici decat el!\n",
      "Pentru pragul natural  31 avem 1 numere din lista mai mici decat el!\n",
      "Pentru pragul natural  32 avem 1 numere din lista mai mici decat el!\n",
      "Pentru pragul natural  33 avem 1 numere din lista mai mici decat el!\n",
      "Pentru pragul natural  34 avem 1 numere din lista mai mici decat el!\n",
      "Pentru pragul natural  35 avem 1 numere din lista mai mici decat el!\n",
      "Pentru pragul natural  36 avem 1 numere din lista mai mici decat el!\n",
      "Pentru pragul natural  37 avem 1 numere din lista mai mici decat el!\n",
      "Pentru pragul natural  38 avem 1 numere din lista mai mici decat el!\n",
      "Pentru pragul natural  39 avem 1 numere din lista mai mici decat el!\n",
      "Pentru pragul natural  40 avem 1 numere din lista mai mici decat el!\n",
      "Pentru pragul natural  41 avem 1 numere din lista mai mici decat el!\n",
      "Pentru pragul natural  42 avem 1 numere din lista mai mici decat el!\n",
      "Pentru pragul natural  43 avem 1 numere din lista mai mici decat el!\n",
      "Pentru pragul natural  44 avem 1 numere din lista mai mici decat el!\n",
      "Pentru pragul natural  45 avem 1 numere din lista mai mici decat el!\n",
      "Pentru pragul natural  46 avem 1 numere din lista mai mici decat el!\n",
      "Pentru pragul natural  47 avem 1 numere din lista mai mici decat el!\n",
      "Pentru pragul natural  48 avem 1 numere din lista mai mici decat el!\n",
      "Pentru pragul natural  49 avem 1 numere din lista mai mici decat el!\n",
      "Pentru pragul natural  50 avem 1 numere din lista mai mici decat el!\n",
      "Pentru pragul natural  51 avem 1 numere din lista mai mici decat el!\n",
      "Pentru pragul natural  52 avem 1 numere din lista mai mici decat el!\n",
      "Pentru pragul natural  53 avem 1 numere din lista mai mici decat el!\n",
      "Pentru pragul natural  54 avem 1 numere din lista mai mici decat el!\n",
      "Pentru pragul natural  55 avem 1 numere din lista mai mici decat el!\n",
      "Pentru pragul natural  56 avem 1 numere din lista mai mici decat el!\n",
      "Pentru pragul natural  57 avem 1 numere din lista mai mici decat el!\n",
      "Pentru pragul natural  58 avem 1 numere din lista mai mici decat el!\n",
      "Pentru pragul natural  59 avem 1 numere din lista mai mici decat el!\n",
      "Pentru pragul natural  60 avem 1 numere din lista mai mici decat el!\n",
      "Pentru pragul natural  61 avem 1 numere din lista mai mici decat el!\n",
      "Pentru pragul natural  62 avem 1 numere din lista mai mici decat el!\n",
      "Pentru pragul natural  63 avem 1 numere din lista mai mici decat el!\n",
      "Pentru pragul natural  64 avem 1 numere din lista mai mici decat el!\n",
      "Pentru pragul natural  65 avem 1 numere din lista mai mici decat el!\n",
      "Pentru pragul natural  66 avem 1 numere din lista mai mici decat el!\n",
      "Pentru pragul natural  67 avem 1 numere din lista mai mici decat el!\n",
      "Pentru pragul natural  68 avem 1 numere din lista mai mici decat el!\n",
      "Pentru pragul natural  69 avem 1 numere din lista mai mici decat el!\n",
      "Pentru pragul natural  70 avem 1 numere din lista mai mici decat el!\n",
      "Pentru pragul natural  71 avem 1 numere din lista mai mici decat el!\n",
      "Pentru pragul natural  72 avem 1 numere din lista mai mici decat el!\n",
      "Pentru pragul natural  73 avem 1 numere din lista mai mici decat el!\n",
      "Pentru pragul natural  74 avem 1 numere din lista mai mici decat el!\n",
      "Pentru pragul natural  75 avem 1 numere din lista mai mici decat el!\n",
      "Pentru pragul natural  76 avem 1 numere din lista mai mici decat el!\n",
      "Pentru pragul natural  77 avem 1 numere din lista mai mici decat el!\n",
      "Pentru pragul natural  78 avem 1 numere din lista mai mici decat el!\n",
      "Pentru pragul natural  79 avem 1 numere din lista mai mici decat el!\n",
      "Pentru pragul natural  80 avem 1 numere din lista mai mici decat el!\n",
      "Pentru pragul natural  81 avem 1 numere din lista mai mici decat el!\n",
      "Pentru pragul natural  82 avem 1 numere din lista mai mici decat el!\n",
      "Pentru pragul natural  83 avem 1 numere din lista mai mici decat el!\n",
      "Pentru pragul natural  84 avem 1 numere din lista mai mici decat el!\n",
      "Pentru pragul natural  85 avem 1 numere din lista mai mici decat el!\n",
      "Pentru pragul natural  86 avem 1 numere din lista mai mici decat el!\n",
      "Pentru pragul natural  87 avem 1 numere din lista mai mici decat el!\n",
      "Pentru pragul natural  88 avem 1 numere din lista mai mici decat el!\n",
      "Pentru pragul natural  89 avem 1 numere din lista mai mici decat el!\n",
      "Pentru pragul natural  90 avem 1 numere din lista mai mici decat el!\n",
      "Pentru pragul natural  91 avem 1 numere din lista mai mici decat el!\n",
      "Pentru pragul natural  92 avem 1 numere din lista mai mici decat el!\n",
      "Pentru pragul natural  93 avem 1 numere din lista mai mici decat el!\n",
      "Pentru pragul natural  94 avem 1 numere din lista mai mici decat el!\n",
      "Pentru pragul natural  95 avem 1 numere din lista mai mici decat el!\n",
      "Pentru pragul natural  96 avem 1 numere din lista mai mici decat el!\n",
      "Pentru pragul natural  97 avem 1 numere din lista mai mici decat el!\n",
      "Pentru pragul natural  98 avem 1 numere din lista mai mici decat el!\n",
      "Pentru pragul natural  99 avem 1 numere din lista mai mici decat el!\n",
      "Pentru pragul natural  100 avem 1 numere din lista mai mici decat el!\n"
     ]
    }
   ],
   "source": [
    "import numpy as np\n",
    "for s in range(1, 100+1):\n",
    "    for j in range(1,len(concat)+1): #ex5\n",
    "        lista=concat[j-1]<s\n",
    "    print('Pentru pragul natural ',s,'avem', np.count_nonzero(lista),'numere din lista mai mici decat el!')"
   ]
  },
  {
   "cell_type": "code",
   "execution_count": null,
   "metadata": {},
   "outputs": [],
   "source": []
  },
  {
   "cell_type": "code",
   "execution_count": null,
   "metadata": {},
   "outputs": [],
   "source": []
  }
 ],
 "metadata": {
  "kernelspec": {
   "display_name": "Python 3",
   "language": "python",
   "name": "python3"
  },
  "language_info": {
   "codemirror_mode": {
    "name": "ipython",
    "version": 3
   },
   "file_extension": ".py",
   "mimetype": "text/x-python",
   "name": "python",
   "nbconvert_exporter": "python",
   "pygments_lexer": "ipython3",
   "version": "3.7.4"
  }
 },
 "nbformat": 4,
 "nbformat_minor": 2
}
